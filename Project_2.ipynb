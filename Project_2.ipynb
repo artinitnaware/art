{
 "cells": [
  {
   "cell_type": "code",
   "execution_count": 1,
   "id": "a5a110f2",
   "metadata": {},
   "outputs": [
    {
     "name": "stdout",
     "output_type": "stream",
     "text": [
      "Welcome to Jupyter, and have a good day :)\n"
     ]
    }
   ],
   "source": [
    "print(\"Welcome to Jupyter, and have a good day :)\")"
   ]
  },
  {
   "cell_type": "code",
   "execution_count": null,
   "id": "5773a591",
   "metadata": {},
   "outputs": [],
   "source": []
  }
 ],
 "metadata": {
  "kernelspec": {
   "display_name": "Python 3 (ipykernel)",
   "language": "python",
   "name": "python3"
  },
  "language_info": {
   "codemirror_mode": {
    "name": "ipython",
    "version": 3
   },
   "file_extension": ".py",
   "mimetype": "text/x-python",
   "name": "python",
   "nbconvert_exporter": "python",
   "pygments_lexer": "ipython3",
   "version": "3.9.7"
  }
 },
 "nbformat": 4,
 "nbformat_minor": 5
}
